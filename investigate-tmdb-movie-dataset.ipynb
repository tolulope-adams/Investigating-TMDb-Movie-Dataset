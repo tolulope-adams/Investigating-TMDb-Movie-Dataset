{
 "cells": [
  {
   "cell_type": "markdown",
   "metadata": {},
   "source": [
    "# Project: Investigating TMDb movie Dataset\n",
    "\n",
    "## Table of Contents\n",
    "<ul>\n",
    "<li><a href=\"#intro\">Introduction</a></li>\n",
    "<li><a href=\"#wrangling\">Data Wrangling</a></li>\n",
    "<li><a href=\"#eda\">Exploratory Data Analysis</a></li>\n",
    "<li><a href=\"#conclusions\">Conclusions</a></li>\n",
    "</ul>"
   ]
  },
  {
   "cell_type": "markdown",
   "metadata": {},
   "source": [
    "<a id='intro'></a>\n",
    "## Introduction\n",
    "\n",
    "The data set contains information about 10,000 movies collected from The Movie Database (TMDb), including user ratings and revenue. Movie datasets can help us determine the best directors in the industry, understand cultural influence by language, predict movie earnings, create movie recommendation services and so on. Some of the questions we might ask after exploring this data set are as follows:\n",
    "\n",
    "<ul>\n",
    "<li>What are the 5 most popular movie genres??</li>\n",
    "<li>What movie genre receives the highest average rating??</li>\n",
    "<li>Do movies with higher budget receive a better rating??</li>\n",
    "<li>What properties are associated with movies that have high revenues?</li>\n",
    "<li>What are the top 10 most profitable movies???</li>\n",
    "<li>Which directors have been consistent with producing top rated movies in the past decade??</li>\n",
    "</ul>"
   ]
  },
  {
   "cell_type": "markdown",
   "metadata": {},
   "source": [
    "<a id='wrangling'></a>\n",
    "## Data Wrangling\n",
    "\n",
    "Data wrangling refers to a variety of processes designed to transform raw data into more readily used formats. The exact methods differ from project to project depending on the data you’re leveraging and the goal you’re trying to achieve.\n",
    "In this section of the report, we will load in the data, check for cleanliness, and then trim and clean the dataset for analysis."
   ]
  },
  {
   "cell_type": "markdown",
   "metadata": {},
   "source": [
    "### Gathering the data"
   ]
  },
  {
   "cell_type": "code",
   "execution_count": 1,
   "metadata": {},
   "outputs": [],
   "source": [
    "# import the necessary librarries\n",
    "import numpy as np\n",
    "import pandas as pd\n",
    "import matplotlib.pyplot as plt\n",
    "%matplotlib inline"
   ]
  },
  {
   "cell_type": "code",
   "execution_count": 2,
   "metadata": {},
   "outputs": [],
   "source": [
    "# Load your data \n",
    "df = pd.read_csv('tmdb-movies.csv')"
   ]
  },
  {
   "cell_type": "markdown",
   "metadata": {},
   "source": [
    "<a id='assess'></a>\n",
    "### Assessing the data"
   ]
  },
  {
   "cell_type": "code",
   "execution_count": 3,
   "metadata": {},
   "outputs": [
    {
     "data": {
      "text/html": [
       "<div>\n",
       "<style scoped>\n",
       "    .dataframe tbody tr th:only-of-type {\n",
       "        vertical-align: middle;\n",
       "    }\n",
       "\n",
       "    .dataframe tbody tr th {\n",
       "        vertical-align: top;\n",
       "    }\n",
       "\n",
       "    .dataframe thead th {\n",
       "        text-align: right;\n",
       "    }\n",
       "</style>\n",
       "<table border=\"1\" class=\"dataframe\">\n",
       "  <thead>\n",
       "    <tr style=\"text-align: right;\">\n",
       "      <th></th>\n",
       "      <th>id</th>\n",
       "      <th>imdb_id</th>\n",
       "      <th>popularity</th>\n",
       "      <th>budget</th>\n",
       "      <th>revenue</th>\n",
       "      <th>original_title</th>\n",
       "      <th>cast</th>\n",
       "      <th>homepage</th>\n",
       "      <th>director</th>\n",
       "      <th>tagline</th>\n",
       "      <th>...</th>\n",
       "      <th>overview</th>\n",
       "      <th>runtime</th>\n",
       "      <th>genres</th>\n",
       "      <th>production_companies</th>\n",
       "      <th>release_date</th>\n",
       "      <th>vote_count</th>\n",
       "      <th>vote_average</th>\n",
       "      <th>release_year</th>\n",
       "      <th>budget_adj</th>\n",
       "      <th>revenue_adj</th>\n",
       "    </tr>\n",
       "  </thead>\n",
       "  <tbody>\n",
       "    <tr>\n",
       "      <th>0</th>\n",
       "      <td>135397</td>\n",
       "      <td>tt0369610</td>\n",
       "      <td>32.985763</td>\n",
       "      <td>150000000</td>\n",
       "      <td>1513528810</td>\n",
       "      <td>Jurassic World</td>\n",
       "      <td>Chris Pratt|Bryce Dallas Howard|Irrfan Khan|Vi...</td>\n",
       "      <td>http://www.jurassicworld.com/</td>\n",
       "      <td>Colin Trevorrow</td>\n",
       "      <td>The park is open.</td>\n",
       "      <td>...</td>\n",
       "      <td>Twenty-two years after the events of Jurassic ...</td>\n",
       "      <td>124</td>\n",
       "      <td>Action|Adventure|Science Fiction|Thriller</td>\n",
       "      <td>Universal Studios|Amblin Entertainment|Legenda...</td>\n",
       "      <td>6/9/15</td>\n",
       "      <td>5562</td>\n",
       "      <td>6.5</td>\n",
       "      <td>2015</td>\n",
       "      <td>1.379999e+08</td>\n",
       "      <td>1.392446e+09</td>\n",
       "    </tr>\n",
       "    <tr>\n",
       "      <th>1</th>\n",
       "      <td>76341</td>\n",
       "      <td>tt1392190</td>\n",
       "      <td>28.419936</td>\n",
       "      <td>150000000</td>\n",
       "      <td>378436354</td>\n",
       "      <td>Mad Max: Fury Road</td>\n",
       "      <td>Tom Hardy|Charlize Theron|Hugh Keays-Byrne|Nic...</td>\n",
       "      <td>http://www.madmaxmovie.com/</td>\n",
       "      <td>George Miller</td>\n",
       "      <td>What a Lovely Day.</td>\n",
       "      <td>...</td>\n",
       "      <td>An apocalyptic story set in the furthest reach...</td>\n",
       "      <td>120</td>\n",
       "      <td>Action|Adventure|Science Fiction|Thriller</td>\n",
       "      <td>Village Roadshow Pictures|Kennedy Miller Produ...</td>\n",
       "      <td>5/13/15</td>\n",
       "      <td>6185</td>\n",
       "      <td>7.1</td>\n",
       "      <td>2015</td>\n",
       "      <td>1.379999e+08</td>\n",
       "      <td>3.481613e+08</td>\n",
       "    </tr>\n",
       "    <tr>\n",
       "      <th>2</th>\n",
       "      <td>262500</td>\n",
       "      <td>tt2908446</td>\n",
       "      <td>13.112507</td>\n",
       "      <td>110000000</td>\n",
       "      <td>295238201</td>\n",
       "      <td>Insurgent</td>\n",
       "      <td>Shailene Woodley|Theo James|Kate Winslet|Ansel...</td>\n",
       "      <td>http://www.thedivergentseries.movie/#insurgent</td>\n",
       "      <td>Robert Schwentke</td>\n",
       "      <td>One Choice Can Destroy You</td>\n",
       "      <td>...</td>\n",
       "      <td>Beatrice Prior must confront her inner demons ...</td>\n",
       "      <td>119</td>\n",
       "      <td>Adventure|Science Fiction|Thriller</td>\n",
       "      <td>Summit Entertainment|Mandeville Films|Red Wago...</td>\n",
       "      <td>3/18/15</td>\n",
       "      <td>2480</td>\n",
       "      <td>6.3</td>\n",
       "      <td>2015</td>\n",
       "      <td>1.012000e+08</td>\n",
       "      <td>2.716190e+08</td>\n",
       "    </tr>\n",
       "    <tr>\n",
       "      <th>3</th>\n",
       "      <td>140607</td>\n",
       "      <td>tt2488496</td>\n",
       "      <td>11.173104</td>\n",
       "      <td>200000000</td>\n",
       "      <td>2068178225</td>\n",
       "      <td>Star Wars: The Force Awakens</td>\n",
       "      <td>Harrison Ford|Mark Hamill|Carrie Fisher|Adam D...</td>\n",
       "      <td>http://www.starwars.com/films/star-wars-episod...</td>\n",
       "      <td>J.J. Abrams</td>\n",
       "      <td>Every generation has a story.</td>\n",
       "      <td>...</td>\n",
       "      <td>Thirty years after defeating the Galactic Empi...</td>\n",
       "      <td>136</td>\n",
       "      <td>Action|Adventure|Science Fiction|Fantasy</td>\n",
       "      <td>Lucasfilm|Truenorth Productions|Bad Robot</td>\n",
       "      <td>12/15/15</td>\n",
       "      <td>5292</td>\n",
       "      <td>7.5</td>\n",
       "      <td>2015</td>\n",
       "      <td>1.839999e+08</td>\n",
       "      <td>1.902723e+09</td>\n",
       "    </tr>\n",
       "    <tr>\n",
       "      <th>4</th>\n",
       "      <td>168259</td>\n",
       "      <td>tt2820852</td>\n",
       "      <td>9.335014</td>\n",
       "      <td>190000000</td>\n",
       "      <td>1506249360</td>\n",
       "      <td>Furious 7</td>\n",
       "      <td>Vin Diesel|Paul Walker|Jason Statham|Michelle ...</td>\n",
       "      <td>http://www.furious7.com/</td>\n",
       "      <td>James Wan</td>\n",
       "      <td>Vengeance Hits Home</td>\n",
       "      <td>...</td>\n",
       "      <td>Deckard Shaw seeks revenge against Dominic Tor...</td>\n",
       "      <td>137</td>\n",
       "      <td>Action|Crime|Thriller</td>\n",
       "      <td>Universal Pictures|Original Film|Media Rights ...</td>\n",
       "      <td>4/1/15</td>\n",
       "      <td>2947</td>\n",
       "      <td>7.3</td>\n",
       "      <td>2015</td>\n",
       "      <td>1.747999e+08</td>\n",
       "      <td>1.385749e+09</td>\n",
       "    </tr>\n",
       "  </tbody>\n",
       "</table>\n",
       "<p>5 rows × 21 columns</p>\n",
       "</div>"
      ],
      "text/plain": [
       "       id    imdb_id  popularity     budget     revenue  \\\n",
       "0  135397  tt0369610   32.985763  150000000  1513528810   \n",
       "1   76341  tt1392190   28.419936  150000000   378436354   \n",
       "2  262500  tt2908446   13.112507  110000000   295238201   \n",
       "3  140607  tt2488496   11.173104  200000000  2068178225   \n",
       "4  168259  tt2820852    9.335014  190000000  1506249360   \n",
       "\n",
       "                 original_title  \\\n",
       "0                Jurassic World   \n",
       "1            Mad Max: Fury Road   \n",
       "2                     Insurgent   \n",
       "3  Star Wars: The Force Awakens   \n",
       "4                     Furious 7   \n",
       "\n",
       "                                                cast  \\\n",
       "0  Chris Pratt|Bryce Dallas Howard|Irrfan Khan|Vi...   \n",
       "1  Tom Hardy|Charlize Theron|Hugh Keays-Byrne|Nic...   \n",
       "2  Shailene Woodley|Theo James|Kate Winslet|Ansel...   \n",
       "3  Harrison Ford|Mark Hamill|Carrie Fisher|Adam D...   \n",
       "4  Vin Diesel|Paul Walker|Jason Statham|Michelle ...   \n",
       "\n",
       "                                            homepage          director  \\\n",
       "0                      http://www.jurassicworld.com/   Colin Trevorrow   \n",
       "1                        http://www.madmaxmovie.com/     George Miller   \n",
       "2     http://www.thedivergentseries.movie/#insurgent  Robert Schwentke   \n",
       "3  http://www.starwars.com/films/star-wars-episod...       J.J. Abrams   \n",
       "4                           http://www.furious7.com/         James Wan   \n",
       "\n",
       "                         tagline  ...  \\\n",
       "0              The park is open.  ...   \n",
       "1             What a Lovely Day.  ...   \n",
       "2     One Choice Can Destroy You  ...   \n",
       "3  Every generation has a story.  ...   \n",
       "4            Vengeance Hits Home  ...   \n",
       "\n",
       "                                            overview runtime  \\\n",
       "0  Twenty-two years after the events of Jurassic ...     124   \n",
       "1  An apocalyptic story set in the furthest reach...     120   \n",
       "2  Beatrice Prior must confront her inner demons ...     119   \n",
       "3  Thirty years after defeating the Galactic Empi...     136   \n",
       "4  Deckard Shaw seeks revenge against Dominic Tor...     137   \n",
       "\n",
       "                                      genres  \\\n",
       "0  Action|Adventure|Science Fiction|Thriller   \n",
       "1  Action|Adventure|Science Fiction|Thriller   \n",
       "2         Adventure|Science Fiction|Thriller   \n",
       "3   Action|Adventure|Science Fiction|Fantasy   \n",
       "4                      Action|Crime|Thriller   \n",
       "\n",
       "                                production_companies release_date vote_count  \\\n",
       "0  Universal Studios|Amblin Entertainment|Legenda...       6/9/15       5562   \n",
       "1  Village Roadshow Pictures|Kennedy Miller Produ...      5/13/15       6185   \n",
       "2  Summit Entertainment|Mandeville Films|Red Wago...      3/18/15       2480   \n",
       "3          Lucasfilm|Truenorth Productions|Bad Robot     12/15/15       5292   \n",
       "4  Universal Pictures|Original Film|Media Rights ...       4/1/15       2947   \n",
       "\n",
       "   vote_average  release_year    budget_adj   revenue_adj  \n",
       "0           6.5          2015  1.379999e+08  1.392446e+09  \n",
       "1           7.1          2015  1.379999e+08  3.481613e+08  \n",
       "2           6.3          2015  1.012000e+08  2.716190e+08  \n",
       "3           7.5          2015  1.839999e+08  1.902723e+09  \n",
       "4           7.3          2015  1.747999e+08  1.385749e+09  \n",
       "\n",
       "[5 rows x 21 columns]"
      ]
     },
     "execution_count": 3,
     "metadata": {},
     "output_type": "execute_result"
    }
   ],
   "source": [
    "# display the first five rows of the dataframe\n",
    "df.head(5)"
   ]
  },
  {
   "cell_type": "code",
   "execution_count": 4,
   "metadata": {},
   "outputs": [
    {
     "name": "stdout",
     "output_type": "stream",
     "text": [
      "<class 'pandas.core.frame.DataFrame'>\n",
      "RangeIndex: 10866 entries, 0 to 10865\n",
      "Data columns (total 21 columns):\n",
      " #   Column                Non-Null Count  Dtype  \n",
      "---  ------                --------------  -----  \n",
      " 0   id                    10866 non-null  int64  \n",
      " 1   imdb_id               10856 non-null  object \n",
      " 2   popularity            10866 non-null  float64\n",
      " 3   budget                10866 non-null  int64  \n",
      " 4   revenue               10866 non-null  int64  \n",
      " 5   original_title        10866 non-null  object \n",
      " 6   cast                  10790 non-null  object \n",
      " 7   homepage              2936 non-null   object \n",
      " 8   director              10822 non-null  object \n",
      " 9   tagline               8042 non-null   object \n",
      " 10  keywords              9373 non-null   object \n",
      " 11  overview              10862 non-null  object \n",
      " 12  runtime               10866 non-null  int64  \n",
      " 13  genres                10843 non-null  object \n",
      " 14  production_companies  9836 non-null   object \n",
      " 15  release_date          10866 non-null  object \n",
      " 16  vote_count            10866 non-null  int64  \n",
      " 17  vote_average          10866 non-null  float64\n",
      " 18  release_year          10866 non-null  int64  \n",
      " 19  budget_adj            10866 non-null  float64\n",
      " 20  revenue_adj           10866 non-null  float64\n",
      "dtypes: float64(4), int64(6), object(11)\n",
      "memory usage: 1.7+ MB\n"
     ]
    },
    {
     "data": {
      "text/plain": [
       "(10866, 21)"
      ]
     },
     "execution_count": 4,
     "metadata": {},
     "output_type": "execute_result"
    }
   ],
   "source": [
    "# print information about the dataframe including the index dtype and columns, non-null values and memory usage\n",
    "df.info()\n",
    "\n",
    "# get the dimensionality of the dataframe (i.e no of rows x no of columns)\n",
    "df.shape"
   ]
  },
  {
   "cell_type": "code",
   "execution_count": 5,
   "metadata": {},
   "outputs": [
    {
     "data": {
      "text/plain": [
       "1"
      ]
     },
     "execution_count": 5,
     "metadata": {},
     "output_type": "execute_result"
    }
   ],
   "source": [
    "# get number of duplicate rows\n",
    "sum(df.duplicated())"
   ]
  },
  {
   "cell_type": "code",
   "execution_count": 6,
   "metadata": {},
   "outputs": [
    {
     "data": {
      "text/html": [
       "<div>\n",
       "<style scoped>\n",
       "    .dataframe tbody tr th:only-of-type {\n",
       "        vertical-align: middle;\n",
       "    }\n",
       "\n",
       "    .dataframe tbody tr th {\n",
       "        vertical-align: top;\n",
       "    }\n",
       "\n",
       "    .dataframe thead th {\n",
       "        text-align: right;\n",
       "    }\n",
       "</style>\n",
       "<table border=\"1\" class=\"dataframe\">\n",
       "  <thead>\n",
       "    <tr style=\"text-align: right;\">\n",
       "      <th></th>\n",
       "      <th>id</th>\n",
       "      <th>popularity</th>\n",
       "      <th>budget</th>\n",
       "      <th>revenue</th>\n",
       "      <th>runtime</th>\n",
       "      <th>vote_count</th>\n",
       "      <th>vote_average</th>\n",
       "      <th>release_year</th>\n",
       "      <th>budget_adj</th>\n",
       "      <th>revenue_adj</th>\n",
       "    </tr>\n",
       "  </thead>\n",
       "  <tbody>\n",
       "    <tr>\n",
       "      <th>count</th>\n",
       "      <td>10866.000000</td>\n",
       "      <td>10866.000000</td>\n",
       "      <td>1.086600e+04</td>\n",
       "      <td>1.086600e+04</td>\n",
       "      <td>10866.000000</td>\n",
       "      <td>10866.000000</td>\n",
       "      <td>10866.000000</td>\n",
       "      <td>10866.000000</td>\n",
       "      <td>1.086600e+04</td>\n",
       "      <td>1.086600e+04</td>\n",
       "    </tr>\n",
       "    <tr>\n",
       "      <th>mean</th>\n",
       "      <td>66064.177434</td>\n",
       "      <td>0.646441</td>\n",
       "      <td>1.462570e+07</td>\n",
       "      <td>3.982332e+07</td>\n",
       "      <td>102.070863</td>\n",
       "      <td>217.389748</td>\n",
       "      <td>5.974922</td>\n",
       "      <td>2001.322658</td>\n",
       "      <td>1.755104e+07</td>\n",
       "      <td>5.136436e+07</td>\n",
       "    </tr>\n",
       "    <tr>\n",
       "      <th>std</th>\n",
       "      <td>92130.136561</td>\n",
       "      <td>1.000185</td>\n",
       "      <td>3.091321e+07</td>\n",
       "      <td>1.170035e+08</td>\n",
       "      <td>31.381405</td>\n",
       "      <td>575.619058</td>\n",
       "      <td>0.935142</td>\n",
       "      <td>12.812941</td>\n",
       "      <td>3.430616e+07</td>\n",
       "      <td>1.446325e+08</td>\n",
       "    </tr>\n",
       "    <tr>\n",
       "      <th>min</th>\n",
       "      <td>5.000000</td>\n",
       "      <td>0.000065</td>\n",
       "      <td>0.000000e+00</td>\n",
       "      <td>0.000000e+00</td>\n",
       "      <td>0.000000</td>\n",
       "      <td>10.000000</td>\n",
       "      <td>1.500000</td>\n",
       "      <td>1960.000000</td>\n",
       "      <td>0.000000e+00</td>\n",
       "      <td>0.000000e+00</td>\n",
       "    </tr>\n",
       "    <tr>\n",
       "      <th>25%</th>\n",
       "      <td>10596.250000</td>\n",
       "      <td>0.207583</td>\n",
       "      <td>0.000000e+00</td>\n",
       "      <td>0.000000e+00</td>\n",
       "      <td>90.000000</td>\n",
       "      <td>17.000000</td>\n",
       "      <td>5.400000</td>\n",
       "      <td>1995.000000</td>\n",
       "      <td>0.000000e+00</td>\n",
       "      <td>0.000000e+00</td>\n",
       "    </tr>\n",
       "    <tr>\n",
       "      <th>50%</th>\n",
       "      <td>20669.000000</td>\n",
       "      <td>0.383856</td>\n",
       "      <td>0.000000e+00</td>\n",
       "      <td>0.000000e+00</td>\n",
       "      <td>99.000000</td>\n",
       "      <td>38.000000</td>\n",
       "      <td>6.000000</td>\n",
       "      <td>2006.000000</td>\n",
       "      <td>0.000000e+00</td>\n",
       "      <td>0.000000e+00</td>\n",
       "    </tr>\n",
       "    <tr>\n",
       "      <th>75%</th>\n",
       "      <td>75610.000000</td>\n",
       "      <td>0.713817</td>\n",
       "      <td>1.500000e+07</td>\n",
       "      <td>2.400000e+07</td>\n",
       "      <td>111.000000</td>\n",
       "      <td>145.750000</td>\n",
       "      <td>6.600000</td>\n",
       "      <td>2011.000000</td>\n",
       "      <td>2.085325e+07</td>\n",
       "      <td>3.369710e+07</td>\n",
       "    </tr>\n",
       "    <tr>\n",
       "      <th>max</th>\n",
       "      <td>417859.000000</td>\n",
       "      <td>32.985763</td>\n",
       "      <td>4.250000e+08</td>\n",
       "      <td>2.781506e+09</td>\n",
       "      <td>900.000000</td>\n",
       "      <td>9767.000000</td>\n",
       "      <td>9.200000</td>\n",
       "      <td>2015.000000</td>\n",
       "      <td>4.250000e+08</td>\n",
       "      <td>2.827124e+09</td>\n",
       "    </tr>\n",
       "  </tbody>\n",
       "</table>\n",
       "</div>"
      ],
      "text/plain": [
       "                  id    popularity        budget       revenue       runtime  \\\n",
       "count   10866.000000  10866.000000  1.086600e+04  1.086600e+04  10866.000000   \n",
       "mean    66064.177434      0.646441  1.462570e+07  3.982332e+07    102.070863   \n",
       "std     92130.136561      1.000185  3.091321e+07  1.170035e+08     31.381405   \n",
       "min         5.000000      0.000065  0.000000e+00  0.000000e+00      0.000000   \n",
       "25%     10596.250000      0.207583  0.000000e+00  0.000000e+00     90.000000   \n",
       "50%     20669.000000      0.383856  0.000000e+00  0.000000e+00     99.000000   \n",
       "75%     75610.000000      0.713817  1.500000e+07  2.400000e+07    111.000000   \n",
       "max    417859.000000     32.985763  4.250000e+08  2.781506e+09    900.000000   \n",
       "\n",
       "         vote_count  vote_average  release_year    budget_adj   revenue_adj  \n",
       "count  10866.000000  10866.000000  10866.000000  1.086600e+04  1.086600e+04  \n",
       "mean     217.389748      5.974922   2001.322658  1.755104e+07  5.136436e+07  \n",
       "std      575.619058      0.935142     12.812941  3.430616e+07  1.446325e+08  \n",
       "min       10.000000      1.500000   1960.000000  0.000000e+00  0.000000e+00  \n",
       "25%       17.000000      5.400000   1995.000000  0.000000e+00  0.000000e+00  \n",
       "50%       38.000000      6.000000   2006.000000  0.000000e+00  0.000000e+00  \n",
       "75%      145.750000      6.600000   2011.000000  2.085325e+07  3.369710e+07  \n",
       "max     9767.000000      9.200000   2015.000000  4.250000e+08  2.827124e+09  "
      ]
     },
     "execution_count": 6,
     "metadata": {},
     "output_type": "execute_result"
    }
   ],
   "source": [
    "# get descriptive statistics of the dataframe\n",
    "df.describe()"
   ]
  },
  {
   "cell_type": "markdown",
   "metadata": {},
   "source": [
    "### Cleaning the data\n",
    "\n",
    "After assessing the data, we realized that our dataset contains duplicates, missing values, incorrect datatypes and several columns that will be irrelevant to our analysis. In this section of the report, we will be using different techniques yo clran our data"
   ]
  },
  {
   "cell_type": "code",
   "execution_count": 7,
   "metadata": {},
   "outputs": [
    {
     "data": {
      "text/html": [
       "<div>\n",
       "<style scoped>\n",
       "    .dataframe tbody tr th:only-of-type {\n",
       "        vertical-align: middle;\n",
       "    }\n",
       "\n",
       "    .dataframe tbody tr th {\n",
       "        vertical-align: top;\n",
       "    }\n",
       "\n",
       "    .dataframe thead th {\n",
       "        text-align: right;\n",
       "    }\n",
       "</style>\n",
       "<table border=\"1\" class=\"dataframe\">\n",
       "  <thead>\n",
       "    <tr style=\"text-align: right;\">\n",
       "      <th></th>\n",
       "      <th>original_title</th>\n",
       "      <th>director</th>\n",
       "      <th>genres</th>\n",
       "      <th>runtime</th>\n",
       "      <th>release_year</th>\n",
       "      <th>popularity</th>\n",
       "      <th>vote_average</th>\n",
       "      <th>vote_count</th>\n",
       "      <th>budget</th>\n",
       "      <th>revenue</th>\n",
       "    </tr>\n",
       "  </thead>\n",
       "  <tbody>\n",
       "    <tr>\n",
       "      <th>0</th>\n",
       "      <td>Jurassic World</td>\n",
       "      <td>Colin Trevorrow</td>\n",
       "      <td>Action|Adventure|Science Fiction|Thriller</td>\n",
       "      <td>124</td>\n",
       "      <td>2015</td>\n",
       "      <td>32.985763</td>\n",
       "      <td>6.5</td>\n",
       "      <td>5562</td>\n",
       "      <td>150000000</td>\n",
       "      <td>1513528810</td>\n",
       "    </tr>\n",
       "    <tr>\n",
       "      <th>1</th>\n",
       "      <td>Mad Max: Fury Road</td>\n",
       "      <td>George Miller</td>\n",
       "      <td>Action|Adventure|Science Fiction|Thriller</td>\n",
       "      <td>120</td>\n",
       "      <td>2015</td>\n",
       "      <td>28.419936</td>\n",
       "      <td>7.1</td>\n",
       "      <td>6185</td>\n",
       "      <td>150000000</td>\n",
       "      <td>378436354</td>\n",
       "    </tr>\n",
       "    <tr>\n",
       "      <th>2</th>\n",
       "      <td>Insurgent</td>\n",
       "      <td>Robert Schwentke</td>\n",
       "      <td>Adventure|Science Fiction|Thriller</td>\n",
       "      <td>119</td>\n",
       "      <td>2015</td>\n",
       "      <td>13.112507</td>\n",
       "      <td>6.3</td>\n",
       "      <td>2480</td>\n",
       "      <td>110000000</td>\n",
       "      <td>295238201</td>\n",
       "    </tr>\n",
       "    <tr>\n",
       "      <th>3</th>\n",
       "      <td>Star Wars: The Force Awakens</td>\n",
       "      <td>J.J. Abrams</td>\n",
       "      <td>Action|Adventure|Science Fiction|Fantasy</td>\n",
       "      <td>136</td>\n",
       "      <td>2015</td>\n",
       "      <td>11.173104</td>\n",
       "      <td>7.5</td>\n",
       "      <td>5292</td>\n",
       "      <td>200000000</td>\n",
       "      <td>2068178225</td>\n",
       "    </tr>\n",
       "    <tr>\n",
       "      <th>4</th>\n",
       "      <td>Furious 7</td>\n",
       "      <td>James Wan</td>\n",
       "      <td>Action|Crime|Thriller</td>\n",
       "      <td>137</td>\n",
       "      <td>2015</td>\n",
       "      <td>9.335014</td>\n",
       "      <td>7.3</td>\n",
       "      <td>2947</td>\n",
       "      <td>190000000</td>\n",
       "      <td>1506249360</td>\n",
       "    </tr>\n",
       "  </tbody>\n",
       "</table>\n",
       "</div>"
      ],
      "text/plain": [
       "                 original_title          director  \\\n",
       "0                Jurassic World   Colin Trevorrow   \n",
       "1            Mad Max: Fury Road     George Miller   \n",
       "2                     Insurgent  Robert Schwentke   \n",
       "3  Star Wars: The Force Awakens       J.J. Abrams   \n",
       "4                     Furious 7         James Wan   \n",
       "\n",
       "                                      genres  runtime  release_year  \\\n",
       "0  Action|Adventure|Science Fiction|Thriller      124          2015   \n",
       "1  Action|Adventure|Science Fiction|Thriller      120          2015   \n",
       "2         Adventure|Science Fiction|Thriller      119          2015   \n",
       "3   Action|Adventure|Science Fiction|Fantasy      136          2015   \n",
       "4                      Action|Crime|Thriller      137          2015   \n",
       "\n",
       "   popularity  vote_average  vote_count     budget     revenue  \n",
       "0   32.985763           6.5        5562  150000000  1513528810  \n",
       "1   28.419936           7.1        6185  150000000   378436354  \n",
       "2   13.112507           6.3        2480  110000000   295238201  \n",
       "3   11.173104           7.5        5292  200000000  2068178225  \n",
       "4    9.335014           7.3        2947  190000000  1506249360  "
      ]
     },
     "execution_count": 7,
     "metadata": {},
     "output_type": "execute_result"
    }
   ],
   "source": [
    "# Drop columns that won’t be used in our analysis\n",
    "df.drop(columns = ['id', 'imdb_id', 'cast', 'homepage', 'tagline', 'keywords', 'overview', 'production_companies', \n",
    "                   'release_date', 'budget_adj', 'revenue_adj'], inplace=True)\n",
    "\n",
    "# rearrange the columns\n",
    "df = df.reindex(columns=['original_title', 'director', 'genres', 'runtime', 'release_year', 'popularity', \n",
    "                         'vote_average', 'vote_count', 'budget', 'revenue'])\n",
    "\n",
    "# print out a few lines of the updated dataframe\n",
    "df.head()"
   ]
  },
  {
   "cell_type": "code",
   "execution_count": null,
   "metadata": {},
   "outputs": [],
   "source": [
    "# Drop the missing value at genres columns\n",
    "df.dropna(subset=['genres'], how='any', inplace=True)"
   ]
  },
  {
   "cell_type": "code",
   "execution_count": 8,
   "metadata": {},
   "outputs": [
    {
     "data": {
      "text/plain": [
       "0"
      ]
     },
     "execution_count": 8,
     "metadata": {},
     "output_type": "execute_result"
    }
   ],
   "source": [
    "#remove duplicates\n",
    "df.drop_duplicates(subset=['original_title'], keep='first', inplace=True)\n",
    "\n",
    "# check number of duplicate rows\n",
    "sum(df.duplicated())"
   ]
  },
  {
   "cell_type": "markdown",
   "metadata": {},
   "source": [
    "<a id='eda'></a>\n",
    "## Exploratory Data Analysis\n",
    "\n",
    "\n",
    "### What are the top 10 most popular movie genres??"
   ]
  },
  {
   "cell_type": "markdown",
   "metadata": {},
   "source": [
    "To get the top 5 most popular genres, we have to get the most popular movie genres from year to year and then count. But how do we classify a movie as popular or not? From the summary statistics, 75 percent of the movies in the dataset have a popularity of approximately 0.71 or less. Let's consider movies that are very popular as movies with popularity greater than or equal to 1.\n",
    "\n",
    "Notice that each movie has more than one genre. Choosing one genre from each movie would bring bias to our analysis. Therefore we have to consider all the genres to find the most popular genres. "
   ]
  },
  {
   "cell_type": "code",
   "execution_count": 9,
   "metadata": {},
   "outputs": [],
   "source": [
    "# convert the elements in the 'genres' column from a string to a list\n",
    "df.genres = df.genres.str.split('|')"
   ]
  },
  {
   "cell_type": "code",
   "execution_count": 10,
   "metadata": {},
   "outputs": [
    {
     "data": {
      "image/png": "[encoded data removed]",
      "text/plain": [
       "<Figure size 720x720 with 9 Axes>"
      ]
     },
     "metadata": {
      "needs_background": "light"
     },
     "output_type": "display_data"
    }
   ],
   "source": [
    "# get movies that have popularities greater than or equal to 1\n",
    "df_very_popular = df.query('popularity >= 1')\n",
    "\n",
    "# plot histogram of the different variable in the dataframe\n",
    "df_very_popular.hist(figsize=(10, 10));"
   ]
  },
  {
   "cell_type": "code",
   "execution_count": 11,
   "metadata": {},
   "outputs": [],
   "source": [
    "# use the explode() function to convert each list-like element of the 'genres' column into a row.\n",
    "df_very_popular = df_very_popular.explode('genres')\n",
    "\n",
    "# reset the index of the dataframe\n",
    "df_very_popular.reset_index(drop=True, inplace=True)"
   ]
  },
  {
   "cell_type": "code",
   "execution_count": 12,
   "metadata": {},
   "outputs": [
    {
     "data": {
      "text/html": [
       "<style  type=\"text/css\" >\n",
       "#T_8abbf_row0_col2,#T_8abbf_row1_col2,#T_8abbf_row2_col2,#T_8abbf_row3_col2,#T_8abbf_row4_col2{\n",
       "            background-color:  yellow;\n",
       "        }</style><table id=\"T_8abbf_\" ><thead>    <tr>        <th class=\"blank level0\" ></th>        <th class=\"col_heading level0 col0\" >original_title</th>        <th class=\"col_heading level0 col1\" >director</th>        <th class=\"col_heading level0 col2\" >genres</th>        <th class=\"col_heading level0 col3\" >runtime</th>        <th class=\"col_heading level0 col4\" >release_year</th>        <th class=\"col_heading level0 col5\" >popularity</th>        <th class=\"col_heading level0 col6\" >vote_average</th>        <th class=\"col_heading level0 col7\" >vote_count</th>        <th class=\"col_heading level0 col8\" >budget</th>        <th class=\"col_heading level0 col9\" >revenue</th>    </tr></thead><tbody>\n",
       "                <tr>\n",
       "                        <th id=\"T_8abbf_level0_row0\" class=\"row_heading level0 row0\" >0</th>\n",
       "                        <td id=\"T_8abbf_row0_col0\" class=\"data row0 col0\" >Jurassic World</td>\n",
       "                        <td id=\"T_8abbf_row0_col1\" class=\"data row0 col1\" >Colin Trevorrow</td>\n",
       "                        <td id=\"T_8abbf_row0_col2\" class=\"data row0 col2\" >Action</td>\n",
       "                        <td id=\"T_8abbf_row0_col3\" class=\"data row0 col3\" >124</td>\n",
       "                        <td id=\"T_8abbf_row0_col4\" class=\"data row0 col4\" >2015</td>\n",
       "                        <td id=\"T_8abbf_row0_col5\" class=\"data row0 col5\" >32.985763</td>\n",
       "                        <td id=\"T_8abbf_row0_col6\" class=\"data row0 col6\" >6.500000</td>\n",
       "                        <td id=\"T_8abbf_row0_col7\" class=\"data row0 col7\" >5562</td>\n",
       "                        <td id=\"T_8abbf_row0_col8\" class=\"data row0 col8\" >150000000</td>\n",
       "                        <td id=\"T_8abbf_row0_col9\" class=\"data row0 col9\" >1513528810</td>\n",
       "            </tr>\n",
       "            <tr>\n",
       "                        <th id=\"T_8abbf_level0_row1\" class=\"row_heading level0 row1\" >1</th>\n",
       "                        <td id=\"T_8abbf_row1_col0\" class=\"data row1 col0\" >Jurassic World</td>\n",
       "                        <td id=\"T_8abbf_row1_col1\" class=\"data row1 col1\" >Colin Trevorrow</td>\n",
       "                        <td id=\"T_8abbf_row1_col2\" class=\"data row1 col2\" >Adventure</td>\n",
       "                        <td id=\"T_8abbf_row1_col3\" class=\"data row1 col3\" >124</td>\n",
       "                        <td id=\"T_8abbf_row1_col4\" class=\"data row1 col4\" >2015</td>\n",
       "                        <td id=\"T_8abbf_row1_col5\" class=\"data row1 col5\" >32.985763</td>\n",
       "                        <td id=\"T_8abbf_row1_col6\" class=\"data row1 col6\" >6.500000</td>\n",
       "                        <td id=\"T_8abbf_row1_col7\" class=\"data row1 col7\" >5562</td>\n",
       "                        <td id=\"T_8abbf_row1_col8\" class=\"data row1 col8\" >150000000</td>\n",
       "                        <td id=\"T_8abbf_row1_col9\" class=\"data row1 col9\" >1513528810</td>\n",
       "            </tr>\n",
       "            <tr>\n",
       "                        <th id=\"T_8abbf_level0_row2\" class=\"row_heading level0 row2\" >2</th>\n",
       "                        <td id=\"T_8abbf_row2_col0\" class=\"data row2 col0\" >Jurassic World</td>\n",
       "                        <td id=\"T_8abbf_row2_col1\" class=\"data row2 col1\" >Colin Trevorrow</td>\n",
       "                        <td id=\"T_8abbf_row2_col2\" class=\"data row2 col2\" >Science Fiction</td>\n",
       "                        <td id=\"T_8abbf_row2_col3\" class=\"data row2 col3\" >124</td>\n",
       "                        <td id=\"T_8abbf_row2_col4\" class=\"data row2 col4\" >2015</td>\n",
       "                        <td id=\"T_8abbf_row2_col5\" class=\"data row2 col5\" >32.985763</td>\n",
       "                        <td id=\"T_8abbf_row2_col6\" class=\"data row2 col6\" >6.500000</td>\n",
       "                        <td id=\"T_8abbf_row2_col7\" class=\"data row2 col7\" >5562</td>\n",
       "                        <td id=\"T_8abbf_row2_col8\" class=\"data row2 col8\" >150000000</td>\n",
       "                        <td id=\"T_8abbf_row2_col9\" class=\"data row2 col9\" >1513528810</td>\n",
       "            </tr>\n",
       "            <tr>\n",
       "                        <th id=\"T_8abbf_level0_row3\" class=\"row_heading level0 row3\" >3</th>\n",
       "                        <td id=\"T_8abbf_row3_col0\" class=\"data row3 col0\" >Jurassic World</td>\n",
       "                        <td id=\"T_8abbf_row3_col1\" class=\"data row3 col1\" >Colin Trevorrow</td>\n",
       "                        <td id=\"T_8abbf_row3_col2\" class=\"data row3 col2\" >Thriller</td>\n",
       "                        <td id=\"T_8abbf_row3_col3\" class=\"data row3 col3\" >124</td>\n",
       "                        <td id=\"T_8abbf_row3_col4\" class=\"data row3 col4\" >2015</td>\n",
       "                        <td id=\"T_8abbf_row3_col5\" class=\"data row3 col5\" >32.985763</td>\n",
       "                        <td id=\"T_8abbf_row3_col6\" class=\"data row3 col6\" >6.500000</td>\n",
       "                        <td id=\"T_8abbf_row3_col7\" class=\"data row3 col7\" >5562</td>\n",
       "                        <td id=\"T_8abbf_row3_col8\" class=\"data row3 col8\" >150000000</td>\n",
       "                        <td id=\"T_8abbf_row3_col9\" class=\"data row3 col9\" >1513528810</td>\n",
       "            </tr>\n",
       "            <tr>\n",
       "                        <th id=\"T_8abbf_level0_row4\" class=\"row_heading level0 row4\" >4</th>\n",
       "                        <td id=\"T_8abbf_row4_col0\" class=\"data row4 col0\" >Mad Max: Fury Road</td>\n",
       "                        <td id=\"T_8abbf_row4_col1\" class=\"data row4 col1\" >George Miller</td>\n",
       "                        <td id=\"T_8abbf_row4_col2\" class=\"data row4 col2\" >Action</td>\n",
       "                        <td id=\"T_8abbf_row4_col3\" class=\"data row4 col3\" >120</td>\n",
       "                        <td id=\"T_8abbf_row4_col4\" class=\"data row4 col4\" >2015</td>\n",
       "                        <td id=\"T_8abbf_row4_col5\" class=\"data row4 col5\" >28.419936</td>\n",
       "                        <td id=\"T_8abbf_row4_col6\" class=\"data row4 col6\" >7.100000</td>\n",
       "                        <td id=\"T_8abbf_row4_col7\" class=\"data row4 col7\" >6185</td>\n",
       "                        <td id=\"T_8abbf_row4_col8\" class=\"data row4 col8\" >150000000</td>\n",
       "                        <td id=\"T_8abbf_row4_col9\" class=\"data row4 col9\" >378436354</td>\n",
       "            </tr>\n",
       "    </tbody></table>"
      ],
      "text/plain": [
       "<pandas.io.formats.style.Styler at 0x15255d8cfa0>"
      ]
     },
     "execution_count": 12,
     "metadata": {},
     "output_type": "execute_result"
    }
   ],
   "source": [
    "# create a function to highlight the genres column\n",
    "def highlight_col(x):\n",
    "    return np.full((x.shape), 'background-color: yellow')\n",
    "\n",
    "# display the first five rows of the exploded dataframe\n",
    "df_very_popular.head(5).style.apply(highlight_col, axis=0, subset=\"genres\")"
   ]
  },
  {
   "cell_type": "code",
   "execution_count": 13,
   "metadata": {
    "scrolled": true
   },
   "outputs": [],
   "source": [
    "# Let's find the mean popularity of each movie genre according to their release year.\n",
    "df_mean_popular = df_very_popular.groupby(['release_year', 'genres'],  as_index=False)['popularity'].mean()"
   ]
  },
  {
   "cell_type": "code",
   "execution_count": 14,
   "metadata": {},
   "outputs": [
    {
     "data": {
      "text/html": [
       "<div>\n",
       "<style scoped>\n",
       "    .dataframe tbody tr th:only-of-type {\n",
       "        vertical-align: middle;\n",
       "    }\n",
       "\n",
       "    .dataframe tbody tr th {\n",
       "        vertical-align: top;\n",
       "    }\n",
       "\n",
       "    .dataframe thead th {\n",
       "        text-align: right;\n",
       "    }\n",
       "</style>\n",
       "<table border=\"1\" class=\"dataframe\">\n",
       "  <thead>\n",
       "    <tr style=\"text-align: right;\">\n",
       "      <th></th>\n",
       "      <th>release_year</th>\n",
       "      <th>genres</th>\n",
       "      <th>popularity</th>\n",
       "    </tr>\n",
       "  </thead>\n",
       "  <tbody>\n",
       "    <tr>\n",
       "      <th>0</th>\n",
       "      <td>1960</td>\n",
       "      <td>Action</td>\n",
       "      <td>1.872132</td>\n",
       "    </tr>\n",
       "    <tr>\n",
       "      <th>1</th>\n",
       "      <td>1960</td>\n",
       "      <td>Adventure</td>\n",
       "      <td>1.872132</td>\n",
       "    </tr>\n",
       "    <tr>\n",
       "      <th>2</th>\n",
       "      <td>1960</td>\n",
       "      <td>Western</td>\n",
       "      <td>1.872132</td>\n",
       "    </tr>\n",
       "    <tr>\n",
       "      <th>3</th>\n",
       "      <td>1961</td>\n",
       "      <td>Adventure</td>\n",
       "      <td>2.631987</td>\n",
       "    </tr>\n",
       "    <tr>\n",
       "      <th>4</th>\n",
       "      <td>1961</td>\n",
       "      <td>Animation</td>\n",
       "      <td>2.631987</td>\n",
       "    </tr>\n",
       "  </tbody>\n",
       "</table>\n",
       "</div>"
      ],
      "text/plain": [
       "   release_year     genres  popularity\n",
       "0          1960     Action    1.872132\n",
       "1          1960  Adventure    1.872132\n",
       "2          1960    Western    1.872132\n",
       "3          1961  Adventure    2.631987\n",
       "4          1961  Animation    2.631987"
      ]
     },
     "execution_count": 14,
     "metadata": {},
     "output_type": "execute_result"
    }
   ],
   "source": [
    "# get the indices of the dataframe with the highest mean for each year.\n",
    "idx = df_mean_popular.groupby(['release_year'])['popularity'].transform(max) == df_mean_popular['popularity']\n",
    "\n",
    "# create a dataframe for most popular genres\n",
    "df_most_popular = df_mean_popular[idx]\n",
    "\n",
    "# display the first five rows of the dataframe \n",
    "df_most_popular.head(5) "
   ]
  },
  {
   "cell_type": "code",
   "execution_count": 15,
   "metadata": {},
   "outputs": [
    {
     "data": {
      "image/png": "[encoded data removed]",
      "text/plain": [
       "<Figure size 432x288 with 1 Axes>"
      ]
     },
     "metadata": {
      "needs_background": "light"
     },
     "output_type": "display_data"
    }
   ],
   "source": [
    "# rank top 10 most popular genres from highest to lowest count\n",
    "df_most_popular['genres'].value_counts().nlargest(10).sort_index(ascending=True).plot(kind='bar');"
   ]
  },
  {
   "cell_type": "markdown",
   "metadata": {},
   "source": [
    "### What is the genre that receives the highest average rating??"
   ]
  },
  {
   "cell_type": "code",
   "execution_count": 16,
   "metadata": {},
   "outputs": [],
   "source": [
    "# use the explode() function to convert each list-like element of the 'genres' column into a row.\n",
    "df_genres = df.explode('genres')"
   ]
  },
  {
   "cell_type": "code",
   "execution_count": 17,
   "metadata": {},
   "outputs": [
    {
     "data": {
      "text/plain": [
       "genres\n",
       "Documentary    6.904678\n",
       "Name: vote_average, dtype: float64"
      ]
     },
     "execution_count": 17,
     "metadata": {},
     "output_type": "execute_result"
    }
   ],
   "source": [
    "# find the highest mean rating according to genre\n",
    "df_genres.groupby(['genres'])['vote_average'].mean().nlargest(1)"
   ]
  },
  {
   "cell_type": "markdown",
   "metadata": {},
   "source": [
    "### Do movies with higher budget receive a better rating??"
   ]
  },
  {
   "cell_type": "code",
   "execution_count": 18,
   "metadata": {},
   "outputs": [
    {
     "data": {
      "image/png": "[encoded data removed]",
      "text/plain": [
       "<Figure size 432x288 with 1 Axes>"
      ]
     },
     "metadata": {
      "needs_background": "light"
     },
     "output_type": "display_data"
    }
   ],
   "source": [
    "df.plot.scatter(x=\"budget\", y=\"vote_average\", alpha=0.5);"
   ]
  },
  {
   "cell_type": "code",
   "execution_count": 19,
   "metadata": {},
   "outputs": [
    {
     "data": {
      "text/plain": [
       "0.08385428495191345"
      ]
     },
     "execution_count": 19,
     "metadata": {},
     "output_type": "execute_result"
    }
   ],
   "source": [
    "# find the correlation between the bugdet column and the vote_average column\n",
    "df['budget'].corr(df['vote_average'])"
   ]
  },
  {
   "cell_type": "markdown",
   "metadata": {},
   "source": [
    "_From the scatterplot and with a correlation coefficient less than 0.1, we can suggest that movies with higher budget do not necessarily receive better ratings_"
   ]
  },
  {
   "cell_type": "markdown",
   "metadata": {},
   "source": [
    "### What properties are associated with movies that have high revenues?"
   ]
  },
  {
   "cell_type": "code",
   "execution_count": 20,
   "metadata": {},
   "outputs": [
    {
     "data": {
      "text/html": [
       "<div>\n",
       "<style scoped>\n",
       "    .dataframe tbody tr th:only-of-type {\n",
       "        vertical-align: middle;\n",
       "    }\n",
       "\n",
       "    .dataframe tbody tr th {\n",
       "        vertical-align: top;\n",
       "    }\n",
       "\n",
       "    .dataframe thead th {\n",
       "        text-align: right;\n",
       "    }\n",
       "</style>\n",
       "<table border=\"1\" class=\"dataframe\">\n",
       "  <thead>\n",
       "    <tr style=\"text-align: right;\">\n",
       "      <th></th>\n",
       "      <th>popularity</th>\n",
       "      <th>vote_average</th>\n",
       "      <th>budget</th>\n",
       "      <th>revenue</th>\n",
       "      <th>profit</th>\n",
       "    </tr>\n",
       "  </thead>\n",
       "  <tbody>\n",
       "    <tr>\n",
       "      <th>popularity</th>\n",
       "      <td>1.000000</td>\n",
       "      <td>0.208749</td>\n",
       "      <td>0.544877</td>\n",
       "      <td>0.661999</td>\n",
       "      <td>0.627368</td>\n",
       "    </tr>\n",
       "    <tr>\n",
       "      <th>vote_average</th>\n",
       "      <td>0.208749</td>\n",
       "      <td>1.000000</td>\n",
       "      <td>0.083854</td>\n",
       "      <td>0.173435</td>\n",
       "      <td>0.183285</td>\n",
       "    </tr>\n",
       "    <tr>\n",
       "      <th>budget</th>\n",
       "      <td>0.544877</td>\n",
       "      <td>0.083854</td>\n",
       "      <td>1.000000</td>\n",
       "      <td>0.735011</td>\n",
       "      <td>0.569641</td>\n",
       "    </tr>\n",
       "    <tr>\n",
       "      <th>revenue</th>\n",
       "      <td>0.661999</td>\n",
       "      <td>0.173435</td>\n",
       "      <td>0.735011</td>\n",
       "      <td>1.000000</td>\n",
       "      <td>0.975982</td>\n",
       "    </tr>\n",
       "    <tr>\n",
       "      <th>profit</th>\n",
       "      <td>0.627368</td>\n",
       "      <td>0.183285</td>\n",
       "      <td>0.569641</td>\n",
       "      <td>0.975982</td>\n",
       "      <td>1.000000</td>\n",
       "    </tr>\n",
       "  </tbody>\n",
       "</table>\n",
       "</div>"
      ],
      "text/plain": [
       "              popularity  vote_average    budget   revenue    profit\n",
       "popularity      1.000000      0.208749  0.544877  0.661999  0.627368\n",
       "vote_average    0.208749      1.000000  0.083854  0.173435  0.183285\n",
       "budget          0.544877      0.083854  1.000000  0.735011  0.569641\n",
       "revenue         0.661999      0.173435  0.735011  1.000000  0.975982\n",
       "profit          0.627368      0.183285  0.569641  0.975982  1.000000"
      ]
     },
     "execution_count": 20,
     "metadata": {},
     "output_type": "execute_result"
    }
   ],
   "source": [
    "# calculate the net profit\n",
    "profit = df['revenue'] - df['budget']\n",
    "\n",
    "# create profit column in the dataframe\n",
    "df['profit'] = profit\n",
    "\n",
    "# find the correlation between the revenue and other variables\n",
    "df[['popularity', 'vote_average', 'budget', 'revenue', 'profit']].corr()"
   ]
  },
  {
   "cell_type": "markdown",
   "metadata": {},
   "source": [
    "_Correlation coefficients whose magnitude are between 0.7 and 0.9 indicate variables which can be considered highly correlated. Although, it should be noted that correlation does not imply causation. From the figure above, we can suggest that high revenue movies come with higher bugdget, higher profit, and higher popularity_"
   ]
  },
  {
   "cell_type": "markdown",
   "metadata": {},
   "source": [
    "### What are the top 10 most profitable movies???"
   ]
  },
  {
   "cell_type": "code",
   "execution_count": 21,
   "metadata": {},
   "outputs": [
    {
     "data": {
      "text/html": [
       "<div>\n",
       "<style scoped>\n",
       "    .dataframe tbody tr th:only-of-type {\n",
       "        vertical-align: middle;\n",
       "    }\n",
       "\n",
       "    .dataframe tbody tr th {\n",
       "        vertical-align: top;\n",
       "    }\n",
       "\n",
       "    .dataframe thead th {\n",
       "        text-align: right;\n",
       "    }\n",
       "</style>\n",
       "<table border=\"1\" class=\"dataframe\">\n",
       "  <thead>\n",
       "    <tr style=\"text-align: right;\">\n",
       "      <th></th>\n",
       "      <th>original_title</th>\n",
       "      <th>director</th>\n",
       "      <th>genres</th>\n",
       "      <th>runtime</th>\n",
       "      <th>release_year</th>\n",
       "      <th>popularity</th>\n",
       "      <th>vote_average</th>\n",
       "      <th>vote_count</th>\n",
       "      <th>budget</th>\n",
       "      <th>revenue</th>\n",
       "      <th>profit</th>\n",
       "      <th>ROI</th>\n",
       "    </tr>\n",
       "  </thead>\n",
       "  <tbody>\n",
       "    <tr>\n",
       "      <th>1386</th>\n",
       "      <td>Avatar</td>\n",
       "      <td>James Cameron</td>\n",
       "      <td>[Action, Adventure, Fantasy, Science Fiction]</td>\n",
       "      <td>162</td>\n",
       "      <td>2009</td>\n",
       "      <td>9.432768</td>\n",
       "      <td>7.1</td>\n",
       "      <td>8458</td>\n",
       "      <td>237000000</td>\n",
       "      <td>2781505847</td>\n",
       "      <td>2544505847</td>\n",
       "      <td>10.736312</td>\n",
       "    </tr>\n",
       "    <tr>\n",
       "      <th>3</th>\n",
       "      <td>Star Wars: The Force Awakens</td>\n",
       "      <td>J.J. Abrams</td>\n",
       "      <td>[Action, Adventure, Science Fiction, Fantasy]</td>\n",
       "      <td>136</td>\n",
       "      <td>2015</td>\n",
       "      <td>11.173104</td>\n",
       "      <td>7.5</td>\n",
       "      <td>5292</td>\n",
       "      <td>200000000</td>\n",
       "      <td>2068178225</td>\n",
       "      <td>1868178225</td>\n",
       "      <td>9.340891</td>\n",
       "    </tr>\n",
       "    <tr>\n",
       "      <th>5231</th>\n",
       "      <td>Titanic</td>\n",
       "      <td>James Cameron</td>\n",
       "      <td>[Drama, Romance, Thriller]</td>\n",
       "      <td>194</td>\n",
       "      <td>1997</td>\n",
       "      <td>4.355219</td>\n",
       "      <td>7.3</td>\n",
       "      <td>4654</td>\n",
       "      <td>200000000</td>\n",
       "      <td>1845034188</td>\n",
       "      <td>1645034188</td>\n",
       "      <td>8.225171</td>\n",
       "    </tr>\n",
       "    <tr>\n",
       "      <th>0</th>\n",
       "      <td>Jurassic World</td>\n",
       "      <td>Colin Trevorrow</td>\n",
       "      <td>[Action, Adventure, Science Fiction, Thriller]</td>\n",
       "      <td>124</td>\n",
       "      <td>2015</td>\n",
       "      <td>32.985763</td>\n",
       "      <td>6.5</td>\n",
       "      <td>5562</td>\n",
       "      <td>150000000</td>\n",
       "      <td>1513528810</td>\n",
       "      <td>1363528810</td>\n",
       "      <td>9.090192</td>\n",
       "    </tr>\n",
       "    <tr>\n",
       "      <th>4</th>\n",
       "      <td>Furious 7</td>\n",
       "      <td>James Wan</td>\n",
       "      <td>[Action, Crime, Thriller]</td>\n",
       "      <td>137</td>\n",
       "      <td>2015</td>\n",
       "      <td>9.335014</td>\n",
       "      <td>7.3</td>\n",
       "      <td>2947</td>\n",
       "      <td>190000000</td>\n",
       "      <td>1506249360</td>\n",
       "      <td>1316249360</td>\n",
       "      <td>6.927628</td>\n",
       "    </tr>\n",
       "    <tr>\n",
       "      <th>4361</th>\n",
       "      <td>The Avengers</td>\n",
       "      <td>Joss Whedon</td>\n",
       "      <td>[Science Fiction, Action, Adventure]</td>\n",
       "      <td>143</td>\n",
       "      <td>2012</td>\n",
       "      <td>7.637767</td>\n",
       "      <td>7.3</td>\n",
       "      <td>8903</td>\n",
       "      <td>220000000</td>\n",
       "      <td>1519557910</td>\n",
       "      <td>1299557910</td>\n",
       "      <td>5.907081</td>\n",
       "    </tr>\n",
       "    <tr>\n",
       "      <th>3374</th>\n",
       "      <td>Harry Potter and the Deathly Hallows: Part 2</td>\n",
       "      <td>David Yates</td>\n",
       "      <td>[Adventure, Family, Fantasy]</td>\n",
       "      <td>130</td>\n",
       "      <td>2011</td>\n",
       "      <td>5.711315</td>\n",
       "      <td>7.7</td>\n",
       "      <td>3750</td>\n",
       "      <td>125000000</td>\n",
       "      <td>1327817822</td>\n",
       "      <td>1202817822</td>\n",
       "      <td>9.622543</td>\n",
       "    </tr>\n",
       "    <tr>\n",
       "      <th>14</th>\n",
       "      <td>Avengers: Age of Ultron</td>\n",
       "      <td>Joss Whedon</td>\n",
       "      <td>[Action, Adventure, Science Fiction]</td>\n",
       "      <td>141</td>\n",
       "      <td>2015</td>\n",
       "      <td>5.944927</td>\n",
       "      <td>7.4</td>\n",
       "      <td>4304</td>\n",
       "      <td>280000000</td>\n",
       "      <td>1405035767</td>\n",
       "      <td>1125035767</td>\n",
       "      <td>4.017985</td>\n",
       "    </tr>\n",
       "    <tr>\n",
       "      <th>8094</th>\n",
       "      <td>The Net</td>\n",
       "      <td>Irwin Winkler</td>\n",
       "      <td>[Crime, Drama, Mystery, Thriller, Action]</td>\n",
       "      <td>114</td>\n",
       "      <td>1995</td>\n",
       "      <td>1.136610</td>\n",
       "      <td>5.6</td>\n",
       "      <td>201</td>\n",
       "      <td>22000000</td>\n",
       "      <td>1106279658</td>\n",
       "      <td>1084279658</td>\n",
       "      <td>49.285439</td>\n",
       "    </tr>\n",
       "    <tr>\n",
       "      <th>8</th>\n",
       "      <td>Minions</td>\n",
       "      <td>Kyle Balda|Pierre Coffin</td>\n",
       "      <td>[Family, Animation, Adventure, Comedy]</td>\n",
       "      <td>91</td>\n",
       "      <td>2015</td>\n",
       "      <td>7.404165</td>\n",
       "      <td>6.5</td>\n",
       "      <td>2893</td>\n",
       "      <td>74000000</td>\n",
       "      <td>1156730962</td>\n",
       "      <td>1082730962</td>\n",
       "      <td>14.631499</td>\n",
       "    </tr>\n",
       "  </tbody>\n",
       "</table>\n",
       "</div>"
      ],
      "text/plain": [
       "                                    original_title                  director  \\\n",
       "1386                                        Avatar             James Cameron   \n",
       "3                     Star Wars: The Force Awakens               J.J. Abrams   \n",
       "5231                                       Titanic             James Cameron   \n",
       "0                                   Jurassic World           Colin Trevorrow   \n",
       "4                                        Furious 7                 James Wan   \n",
       "4361                                  The Avengers               Joss Whedon   \n",
       "3374  Harry Potter and the Deathly Hallows: Part 2               David Yates   \n",
       "14                         Avengers: Age of Ultron               Joss Whedon   \n",
       "8094                                       The Net             Irwin Winkler   \n",
       "8                                          Minions  Kyle Balda|Pierre Coffin   \n",
       "\n",
       "                                              genres  runtime  release_year  \\\n",
       "1386   [Action, Adventure, Fantasy, Science Fiction]      162          2009   \n",
       "3      [Action, Adventure, Science Fiction, Fantasy]      136          2015   \n",
       "5231                      [Drama, Romance, Thriller]      194          1997   \n",
       "0     [Action, Adventure, Science Fiction, Thriller]      124          2015   \n",
       "4                          [Action, Crime, Thriller]      137          2015   \n",
       "4361            [Science Fiction, Action, Adventure]      143          2012   \n",
       "3374                    [Adventure, Family, Fantasy]      130          2011   \n",
       "14              [Action, Adventure, Science Fiction]      141          2015   \n",
       "8094       [Crime, Drama, Mystery, Thriller, Action]      114          1995   \n",
       "8             [Family, Animation, Adventure, Comedy]       91          2015   \n",
       "\n",
       "      popularity  vote_average  vote_count     budget     revenue      profit  \\\n",
       "1386    9.432768           7.1        8458  237000000  2781505847  2544505847   \n",
       "3      11.173104           7.5        5292  200000000  2068178225  1868178225   \n",
       "5231    4.355219           7.3        4654  200000000  1845034188  1645034188   \n",
       "0      32.985763           6.5        5562  150000000  1513528810  1363528810   \n",
       "4       9.335014           7.3        2947  190000000  1506249360  1316249360   \n",
       "4361    7.637767           7.3        8903  220000000  1519557910  1299557910   \n",
       "3374    5.711315           7.7        3750  125000000  1327817822  1202817822   \n",
       "14      5.944927           7.4        4304  280000000  1405035767  1125035767   \n",
       "8094    1.136610           5.6         201   22000000  1106279658  1084279658   \n",
       "8       7.404165           6.5        2893   74000000  1156730962  1082730962   \n",
       "\n",
       "            ROI  \n",
       "1386  10.736312  \n",
       "3      9.340891  \n",
       "5231   8.225171  \n",
       "0      9.090192  \n",
       "4      6.927628  \n",
       "4361   5.907081  \n",
       "3374   9.622543  \n",
       "14     4.017985  \n",
       "8094  49.285439  \n",
       "8     14.631499  "
      ]
     },
     "execution_count": 21,
     "metadata": {},
     "output_type": "execute_result"
    }
   ],
   "source": [
    "# calculate the Return On Investment (ROI)\n",
    "df['ROI'] = df['profit'] / df['budget']\n",
    "\n",
    "# sort the dataframe by net profit from highest to lowest \n",
    "df_profitable = df.sort_values(by=['profit'], ascending=False)\n",
    "\n",
    "# display the first ten rows of the dataframe \n",
    "df_profitable.head(10)"
   ]
  },
  {
   "cell_type": "markdown",
   "metadata": {},
   "source": [
    "### Which directors has been consistent with producing top rated movies in the past decade??\n",
    "\n",
    "How do we classify a movie as \"top rated\"? From the summary statistics, 75 percent of the movies in the dataset have a popularity of approximately 6.6 or less. Let's consider movies as \"top rated\" if they have a rating of 7 and above."
   ]
  },
  {
   "cell_type": "code",
   "execution_count": 22,
   "metadata": {},
   "outputs": [],
   "source": [
    "df_top_rated = df.query('vote_average >= 7 & release_year >=  release_year.max() - 10')"
   ]
  },
  {
   "cell_type": "code",
   "execution_count": 23,
   "metadata": {},
   "outputs": [
    {
     "data": {
      "text/plain": [
       "Wes Anderson         7\n",
       "Christopher Nolan    6\n",
       "Joss Whedon          5\n",
       "Martin Scorsese      5\n",
       "Shannon Hartman      4\n",
       "David Yates          4\n",
       "Tom Hooper           4\n",
       "Matthew Vaughn       4\n",
       "Louis C.K.           4\n",
       "Jay Oliva            4\n",
       "Name: director, dtype: int64"
      ]
     },
     "execution_count": 23,
     "metadata": {},
     "output_type": "execute_result"
    }
   ],
   "source": [
    "df_top_rated.director.value_counts().nlargest(10)"
   ]
  },
  {
   "cell_type": "markdown",
   "metadata": {},
   "source": [
    "### Limitations to our dataset"
   ]
  },
  {
   "cell_type": "markdown",
   "metadata": {},
   "source": [
    "<ul>\n",
    "<li>Lack of information on how the vote_average was calculated</li>\n",
    "<li>The missing values in the data may affect our accuracy of analysis</li>\n",
    "</ul>"
   ]
  },
  {
   "cell_type": "markdown",
   "metadata": {},
   "source": [
    "<a id='conclusions'></a>\n",
    "## Conclusions"
   ]
  },
  {
   "cell_type": "markdown",
   "metadata": {},
   "source": [
    "From our analysis, we see that movies with higher revenues will most likely require higher budget. Production companies will require higher bugdget to produce high-quality movies that will generate higher profit. We can see the return on investments from some of the most profitable movies are 4 up to 49 times their budget. If we intend to produce a movie, it will be wise to hire directors like **Christopher Nolan** who have been consistent with creating top rated movies in the past deacade. "
   ]
  }
 ],
 "metadata": {
  "kernelspec": {
   "display_name": "Python 3",
   "language": "python",
   "name": "python3"
  },
  "language_info": {
   "codemirror_mode": {
    "name": "ipython",
    "version": 3
   },
   "file_extension": ".py",
   "mimetype": "text/x-python",
   "name": "python",
   "nbconvert_exporter": "python",
   "pygments_lexer": "ipython3",
   "version": "3.8.8"
  }
 },
 "nbformat": 4,
 "nbformat_minor": 2
}
